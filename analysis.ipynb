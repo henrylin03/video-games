{
 "cells": [
  {
   "attachments": {},
   "cell_type": "markdown",
   "id": "43cb5259",
   "metadata": {},
   "source": [
    "# Video Games Review: Analysis\n",
    "\n",
    "In this project, I explore [Metacritic's video games reviews](https://www.metacritic.com/browse/games/score/metascore/all/all/filtered?page=0), released between 1995-2021.\n",
    "\n",
    "Please see the [README](https://github.com/henrylin03/video-games) for more information.\n"
   ]
  },
  {
   "attachments": {},
   "cell_type": "markdown",
   "id": "d1aafa35",
   "metadata": {},
   "source": [
    "## Setup\n",
    "\n",
    "In this section, I import all necessary libraries, setup the SQLite database, and then import the input `.csv` files in a format that allows manipulation by both `sqlite` and `pandas`:\n"
   ]
  },
  {
   "cell_type": "code",
   "execution_count": 1,
   "id": "48fc7e96",
   "metadata": {},
   "outputs": [],
   "source": [
    "# import necessary libraries\n",
    "import os\n",
    "import pandas as pd\n",
    "from sqlalchemy import create_engine\n",
    "\n",
    "# creating SQLite database\n",
    "engine = create_engine(\"sqlite://\", echo=False)\n",
    "\n",
    "# import CSV as DataFrames\n",
    "INPUT_PATH = \"./input\"\n",
    "meta_df = pd.read_csv(os.path.join(INPUT_PATH, \"meta.csv\"))\n",
    "user_df = pd.read_csv(os.path.join(INPUT_PATH, \"user.csv\"))\n"
   ]
  },
  {
   "cell_type": "code",
   "execution_count": 2,
   "id": "98c8f1bc",
   "metadata": {},
   "outputs": [
    {
     "data": {
      "text/html": [
       "<div>\n",
       "<style scoped>\n",
       "    .dataframe tbody tr th:only-of-type {\n",
       "        vertical-align: middle;\n",
       "    }\n",
       "\n",
       "    .dataframe tbody tr th {\n",
       "        vertical-align: top;\n",
       "    }\n",
       "\n",
       "    .dataframe thead th {\n",
       "        text-align: right;\n",
       "    }\n",
       "</style>\n",
       "<table border=\"1\" class=\"dataframe\">\n",
       "  <thead>\n",
       "    <tr style=\"text-align: right;\">\n",
       "      <th></th>\n",
       "      <th>meta_score</th>\n",
       "      <th>meta_rank</th>\n",
       "      <th>name</th>\n",
       "      <th>platform</th>\n",
       "      <th>release_date</th>\n",
       "      <th>summary</th>\n",
       "    </tr>\n",
       "  </thead>\n",
       "  <tbody>\n",
       "    <tr>\n",
       "      <th>0</th>\n",
       "      <td>99</td>\n",
       "      <td>1.0</td>\n",
       "      <td>The Legend of Zelda: Ocarina of Time</td>\n",
       "      <td>Platform: Nintendo 64</td>\n",
       "      <td>November 23, 1998</td>\n",
       "      <td>As a young boy, Link is tricked by Ganondorf, ...</td>\n",
       "    </tr>\n",
       "    <tr>\n",
       "      <th>1</th>\n",
       "      <td>98</td>\n",
       "      <td>2.0</td>\n",
       "      <td>Tony Hawk's Pro Skater 2</td>\n",
       "      <td>Platform: PlayStation</td>\n",
       "      <td>September 20, 2000</td>\n",
       "      <td>As most major publishers' development efforts ...</td>\n",
       "    </tr>\n",
       "    <tr>\n",
       "      <th>2</th>\n",
       "      <td>98</td>\n",
       "      <td>3.0</td>\n",
       "      <td>Grand Theft Auto IV</td>\n",
       "      <td>Platform: PlayStation 3</td>\n",
       "      <td>April 29, 2008</td>\n",
       "      <td>[Metacritic's 2008 PS3 Game of the Year; Also ...</td>\n",
       "    </tr>\n",
       "  </tbody>\n",
       "</table>\n",
       "</div>"
      ],
      "text/plain": [
       "   meta_score  meta_rank                                  name  \\\n",
       "0          99        1.0  The Legend of Zelda: Ocarina of Time   \n",
       "1          98        2.0              Tony Hawk's Pro Skater 2   \n",
       "2          98        3.0                   Grand Theft Auto IV   \n",
       "\n",
       "                  platform        release_date  \\\n",
       "0    Platform: Nintendo 64   November 23, 1998   \n",
       "1    Platform: PlayStation  September 20, 2000   \n",
       "2  Platform: PlayStation 3      April 29, 2008   \n",
       "\n",
       "                                             summary  \n",
       "0  As a young boy, Link is tricked by Ganondorf, ...  \n",
       "1  As most major publishers' development efforts ...  \n",
       "2  [Metacritic's 2008 PS3 Game of the Year; Also ...  "
      ]
     },
     "execution_count": 2,
     "metadata": {},
     "output_type": "execute_result"
    }
   ],
   "source": [
    "meta_df.to_sql(\"meta\", engine, if_exists=\"replace\", index=False)\n",
    "pd.read_sql_query(\"SELECT * FROM meta LIMIT 3\", engine)\n"
   ]
  },
  {
   "cell_type": "code",
   "execution_count": 3,
   "id": "fb49d157",
   "metadata": {},
   "outputs": [
    {
     "data": {
      "text/html": [
       "<div>\n",
       "<style scoped>\n",
       "    .dataframe tbody tr th:only-of-type {\n",
       "        vertical-align: middle;\n",
       "    }\n",
       "\n",
       "    .dataframe tbody tr th {\n",
       "        vertical-align: top;\n",
       "    }\n",
       "\n",
       "    .dataframe thead th {\n",
       "        text-align: right;\n",
       "    }\n",
       "</style>\n",
       "<table border=\"1\" class=\"dataframe\">\n",
       "  <thead>\n",
       "    <tr style=\"text-align: right;\">\n",
       "      <th></th>\n",
       "      <th>user_score</th>\n",
       "      <th>user_rank</th>\n",
       "      <th>name</th>\n",
       "      <th>platform</th>\n",
       "      <th>release_date</th>\n",
       "      <th>summary</th>\n",
       "    </tr>\n",
       "  </thead>\n",
       "  <tbody>\n",
       "    <tr>\n",
       "      <th>0</th>\n",
       "      <td>9.7</td>\n",
       "      <td>1.0</td>\n",
       "      <td>Ghost Trick: Phantom Detective</td>\n",
       "      <td>Platform: DS</td>\n",
       "      <td>January 11, 2011</td>\n",
       "      <td>Ghost Trick is a story of mystery and intrigue...</td>\n",
       "    </tr>\n",
       "    <tr>\n",
       "      <th>1</th>\n",
       "      <td>9.7</td>\n",
       "      <td>2.0</td>\n",
       "      <td>Z.H.P. Unlosing Ranger vs Darkdeath Evilman</td>\n",
       "      <td>Platform: PSP</td>\n",
       "      <td>October 25, 2010</td>\n",
       "      <td>Known as ZettaiHero Keikakuin Japan, Z.H.P. is...</td>\n",
       "    </tr>\n",
       "    <tr>\n",
       "      <th>2</th>\n",
       "      <td>9.6</td>\n",
       "      <td>3.0</td>\n",
       "      <td>Superliminal</td>\n",
       "      <td>Platform: Xbox One</td>\n",
       "      <td>July 7, 2020</td>\n",
       "      <td>Perception is reality. In this mind-bending fi...</td>\n",
       "    </tr>\n",
       "  </tbody>\n",
       "</table>\n",
       "</div>"
      ],
      "text/plain": [
       "   user_score  user_rank                                         name  \\\n",
       "0         9.7        1.0               Ghost Trick: Phantom Detective   \n",
       "1         9.7        2.0  Z.H.P. Unlosing Ranger vs Darkdeath Evilman   \n",
       "2         9.6        3.0                                 Superliminal   \n",
       "\n",
       "             platform      release_date  \\\n",
       "0        Platform: DS  January 11, 2011   \n",
       "1       Platform: PSP  October 25, 2010   \n",
       "2  Platform: Xbox One      July 7, 2020   \n",
       "\n",
       "                                             summary  \n",
       "0  Ghost Trick is a story of mystery and intrigue...  \n",
       "1  Known as ZettaiHero Keikakuin Japan, Z.H.P. is...  \n",
       "2  Perception is reality. In this mind-bending fi...  "
      ]
     },
     "execution_count": 3,
     "metadata": {},
     "output_type": "execute_result"
    }
   ],
   "source": [
    "user_df.to_sql(\"user\", engine, if_exists=\"replace\", index=False)\n",
    "pd.read_sql_query(\"SELECT * FROM user LIMIT 3\", engine)\n"
   ]
  },
  {
   "attachments": {},
   "cell_type": "markdown",
   "id": "9e1650db",
   "metadata": {},
   "source": [
    "## Cleaning\n",
    "\n",
    "Before analysis, the following steps should be taken:\n",
    "\n",
    "1. Merge the two tables. If a game does not have a `meta_score` and/or `user_score`, add `NULL` value.\n",
    "2. Ensuring correct data types -- namely: `release_date` should be in datetime format, and ranking is an integer and not float.\n",
    "3. Clean the `platform` column by removing the `\"Platform: \"` prefix\n"
   ]
  },
  {
   "attachments": {},
   "cell_type": "markdown",
   "id": "31abcbf1",
   "metadata": {},
   "source": [
    "### Merging Tables\n",
    "\n",
    "As there are some games that have a Metascore but no User Score due to insufficient reviews (and vice versa), we need to join the two tables together.\n",
    "\n",
    "Here, we use `pandas.merge()` method as SQLite does not have `FULL OUTER JOIN`s _([SQLite Tutorial](https://www.sqlitetutorial.net/sqlite-full-outer-join/))_.\n"
   ]
  },
  {
   "cell_type": "code",
   "execution_count": 29,
   "id": "682bb207",
   "metadata": {},
   "outputs": [
    {
     "data": {
      "text/html": [
       "<div>\n",
       "<style scoped>\n",
       "    .dataframe tbody tr th:only-of-type {\n",
       "        vertical-align: middle;\n",
       "    }\n",
       "\n",
       "    .dataframe tbody tr th {\n",
       "        vertical-align: top;\n",
       "    }\n",
       "\n",
       "    .dataframe thead th {\n",
       "        text-align: right;\n",
       "    }\n",
       "</style>\n",
       "<table border=\"1\" class=\"dataframe\">\n",
       "  <thead>\n",
       "    <tr style=\"text-align: right;\">\n",
       "      <th></th>\n",
       "      <th>meta_score</th>\n",
       "      <th>meta_rank</th>\n",
       "      <th>name</th>\n",
       "      <th>platform</th>\n",
       "      <th>release_date</th>\n",
       "      <th>summary_x</th>\n",
       "      <th>user_score</th>\n",
       "      <th>user_rank</th>\n",
       "      <th>summary_y</th>\n",
       "    </tr>\n",
       "  </thead>\n",
       "  <tbody>\n",
       "    <tr>\n",
       "      <th>0</th>\n",
       "      <td>99</td>\n",
       "      <td>1.0</td>\n",
       "      <td>The Legend of Zelda: Ocarina of Time</td>\n",
       "      <td>Platform: Nintendo 64</td>\n",
       "      <td>November 23, 1998</td>\n",
       "      <td>As a young boy, Link is tricked by Ganondorf, ...</td>\n",
       "      <td>9.1</td>\n",
       "      <td>84.0</td>\n",
       "      <td>As a young boy, Link is tricked by Ganondorf, ...</td>\n",
       "    </tr>\n",
       "    <tr>\n",
       "      <th>1</th>\n",
       "      <td>98</td>\n",
       "      <td>2.0</td>\n",
       "      <td>Tony Hawk's Pro Skater 2</td>\n",
       "      <td>Platform: PlayStation</td>\n",
       "      <td>September 20, 2000</td>\n",
       "      <td>As most major publishers' development efforts ...</td>\n",
       "      <td>7.4</td>\n",
       "      <td>8651.0</td>\n",
       "      <td>As most major publishers' development efforts ...</td>\n",
       "    </tr>\n",
       "    <tr>\n",
       "      <th>2</th>\n",
       "      <td>98</td>\n",
       "      <td>3.0</td>\n",
       "      <td>Grand Theft Auto IV</td>\n",
       "      <td>Platform: PlayStation 3</td>\n",
       "      <td>April 29, 2008</td>\n",
       "      <td>[Metacritic's 2008 PS3 Game of the Year; Also ...</td>\n",
       "      <td>7.8</td>\n",
       "      <td>5567.0</td>\n",
       "      <td>[Metacritic's 2008 PS3 Game of the Year; Also ...</td>\n",
       "    </tr>\n",
       "  </tbody>\n",
       "</table>\n",
       "</div>"
      ],
      "text/plain": [
       "   meta_score  meta_rank                                  name  \\\n",
       "0          99        1.0  The Legend of Zelda: Ocarina of Time   \n",
       "1          98        2.0              Tony Hawk's Pro Skater 2   \n",
       "2          98        3.0                   Grand Theft Auto IV   \n",
       "\n",
       "                  platform        release_date  \\\n",
       "0    Platform: Nintendo 64   November 23, 1998   \n",
       "1    Platform: PlayStation  September 20, 2000   \n",
       "2  Platform: PlayStation 3      April 29, 2008   \n",
       "\n",
       "                                           summary_x  user_score  user_rank  \\\n",
       "0  As a young boy, Link is tricked by Ganondorf, ...         9.1       84.0   \n",
       "1  As most major publishers' development efforts ...         7.4     8651.0   \n",
       "2  [Metacritic's 2008 PS3 Game of the Year; Also ...         7.8     5567.0   \n",
       "\n",
       "                                           summary_y  \n",
       "0  As a young boy, Link is tricked by Ganondorf, ...  \n",
       "1  As most major publishers' development efforts ...  \n",
       "2  [Metacritic's 2008 PS3 Game of the Year; Also ...  "
      ]
     },
     "execution_count": 29,
     "metadata": {},
     "output_type": "execute_result"
    }
   ],
   "source": [
    "merged_df = meta_df.merge(user_df, how=\"outer\", on=[\"name\", \"platform\", \"release_date\"])\n",
    "\n",
    "merged_df.head(3)\n"
   ]
  },
  {
   "cell_type": "code",
   "execution_count": 30,
   "id": "8c6cf0b8",
   "metadata": {},
   "outputs": [
    {
     "name": "stdout",
     "output_type": "stream",
     "text": [
      "There are rows with a \"summary\" in column \"summary_x\" and not \"summary_y\"\n"
     ]
    },
    {
     "data": {
      "text/html": [
       "<div>\n",
       "<style scoped>\n",
       "    .dataframe tbody tr th:only-of-type {\n",
       "        vertical-align: middle;\n",
       "    }\n",
       "\n",
       "    .dataframe tbody tr th {\n",
       "        vertical-align: top;\n",
       "    }\n",
       "\n",
       "    .dataframe thead th {\n",
       "        text-align: right;\n",
       "    }\n",
       "</style>\n",
       "<table border=\"1\" class=\"dataframe\">\n",
       "  <thead>\n",
       "    <tr style=\"text-align: right;\">\n",
       "      <th></th>\n",
       "      <th>meta_score</th>\n",
       "      <th>meta_rank</th>\n",
       "      <th>name</th>\n",
       "      <th>platform</th>\n",
       "      <th>release_date</th>\n",
       "      <th>summary</th>\n",
       "      <th>user_score</th>\n",
       "      <th>user_rank</th>\n",
       "    </tr>\n",
       "  </thead>\n",
       "  <tbody>\n",
       "    <tr>\n",
       "      <th>0</th>\n",
       "      <td>99</td>\n",
       "      <td>1.0</td>\n",
       "      <td>The Legend of Zelda: Ocarina of Time</td>\n",
       "      <td>Platform: Nintendo 64</td>\n",
       "      <td>November 23, 1998</td>\n",
       "      <td>As a young boy, Link is tricked by Ganondorf, ...</td>\n",
       "      <td>9.1</td>\n",
       "      <td>84.0</td>\n",
       "    </tr>\n",
       "    <tr>\n",
       "      <th>1</th>\n",
       "      <td>98</td>\n",
       "      <td>2.0</td>\n",
       "      <td>Tony Hawk's Pro Skater 2</td>\n",
       "      <td>Platform: PlayStation</td>\n",
       "      <td>September 20, 2000</td>\n",
       "      <td>As most major publishers' development efforts ...</td>\n",
       "      <td>7.4</td>\n",
       "      <td>8651.0</td>\n",
       "    </tr>\n",
       "    <tr>\n",
       "      <th>2</th>\n",
       "      <td>98</td>\n",
       "      <td>3.0</td>\n",
       "      <td>Grand Theft Auto IV</td>\n",
       "      <td>Platform: PlayStation 3</td>\n",
       "      <td>April 29, 2008</td>\n",
       "      <td>[Metacritic's 2008 PS3 Game of the Year; Also ...</td>\n",
       "      <td>7.8</td>\n",
       "      <td>5567.0</td>\n",
       "    </tr>\n",
       "  </tbody>\n",
       "</table>\n",
       "</div>"
      ],
      "text/plain": [
       "   meta_score  meta_rank                                  name  \\\n",
       "0          99        1.0  The Legend of Zelda: Ocarina of Time   \n",
       "1          98        2.0              Tony Hawk's Pro Skater 2   \n",
       "2          98        3.0                   Grand Theft Auto IV   \n",
       "\n",
       "                  platform        release_date  \\\n",
       "0    Platform: Nintendo 64   November 23, 1998   \n",
       "1    Platform: PlayStation  September 20, 2000   \n",
       "2  Platform: PlayStation 3      April 29, 2008   \n",
       "\n",
       "                                             summary  user_score  user_rank  \n",
       "0  As a young boy, Link is tricked by Ganondorf, ...         9.1       84.0  \n",
       "1  As most major publishers' development efforts ...         7.4     8651.0  \n",
       "2  [Metacritic's 2008 PS3 Game of the Year; Also ...         7.8     5567.0  "
      ]
     },
     "execution_count": 30,
     "metadata": {},
     "output_type": "execute_result"
    }
   ],
   "source": [
    "if not merged_df[merged_df.summary_y.isna() & ~merged_df.summary_x.isna()].empty:\n",
    "    print('There are rows with a \"summary\" in column \"summary_x\" and not \"summary_y\"')\n",
    "if not merged_df[merged_df.summary_x.isna() & ~merged_df.summary_y.isna()].empty:\n",
    "    print('There are rows with a \"summary\" in column \"summary_y\" and not \"summary_x\"')\n",
    "\n",
    "# thus, we can safely drop the summary_y column\n",
    "merged_df = merged_df.drop(columns=[\"summary_y\"]).rename(\n",
    "    columns={\"summary_x\": \"summary\"}\n",
    ")\n",
    "merged_df.head(3)\n"
   ]
  },
  {
   "attachments": {},
   "cell_type": "markdown",
   "id": "bbd1a7f7",
   "metadata": {},
   "source": [
    "### Ensuring correct data types"
   ]
  },
  {
   "cell_type": "code",
   "execution_count": null,
   "id": "ebcba6fc",
   "metadata": {},
   "outputs": [],
   "source": [
    "# reformatting release_date as datetime format"
   ]
  },
  {
   "attachments": {},
   "cell_type": "markdown",
   "id": "0864c3d8",
   "metadata": {},
   "source": [
    "### Changing `release_date` to `STRFTIME` format\n"
   ]
  },
  {
   "cell_type": "code",
   "execution_count": null,
   "id": "771f702d",
   "metadata": {},
   "outputs": [],
   "source": [
    "vg_df[\"release_date_formatted\"] = pd.to_datetime(vg_df.release_date, format=\"%B %d, %Y\")\n",
    "# print(vg_df.release_date)\n"
   ]
  },
  {
   "attachments": {},
   "cell_type": "markdown",
   "id": "2aac2981",
   "metadata": {},
   "source": [
    "### Removing space prefix for `platform`\n"
   ]
  },
  {
   "cell_type": "code",
   "execution_count": null,
   "id": "e20b62b1",
   "metadata": {},
   "outputs": [],
   "source": [
    "vg_df.platform = vg_df.platform.str.lstrip()\n",
    "\n",
    "print(vg_df.platform.unique())\n"
   ]
  },
  {
   "attachments": {},
   "cell_type": "markdown",
   "id": "669a560d",
   "metadata": {},
   "source": [
    "## Insights\n"
   ]
  },
  {
   "attachments": {},
   "cell_type": "markdown",
   "id": "fb48ede3",
   "metadata": {},
   "source": [
    "### Games\n"
   ]
  },
  {
   "attachments": {},
   "cell_type": "markdown",
   "id": "90f0e094",
   "metadata": {},
   "source": [
    "#### What are the 10 most popular games?\n"
   ]
  },
  {
   "attachments": {},
   "cell_type": "markdown",
   "id": "79ff9b4d",
   "metadata": {},
   "source": [
    "Because each row represents a game for a platform, we will need to `GROUP BY` the game name, and take an average.\n"
   ]
  },
  {
   "attachments": {},
   "cell_type": "markdown",
   "id": "c24f2521",
   "metadata": {},
   "source": [
    "##### By Metascore\n",
    "\n",
    "Metascore is a weighted average score of curated reviews by critics selected by Metacritic [(source)](https://www.metacritic.com/about-metascores).\n"
   ]
  },
  {
   "cell_type": "code",
   "execution_count": null,
   "id": "aa728262",
   "metadata": {
    "scrolled": false
   },
   "outputs": [],
   "source": [
    "pd.read_sql_query(\n",
    "    \"\"\"SELECT name,\n",
    "                         summary,\n",
    "                         AVG(1.0 * meta_score) meta_score_avg\n",
    "                     FROM vg\n",
    "                     GROUP BY 1\n",
    "                     ORDER BY 3 DESC, 1\n",
    "                     LIMIT 10\"\"\",\n",
    "    engine,\n",
    ")\n"
   ]
  },
  {
   "attachments": {},
   "cell_type": "markdown",
   "id": "3c8ffd3b",
   "metadata": {},
   "source": [
    "##### By user reviews\n"
   ]
  },
  {
   "cell_type": "code",
   "execution_count": null,
   "id": "3867f5f6",
   "metadata": {},
   "outputs": [],
   "source": [
    "pd.read_sql_query(\n",
    "    \"\"\"SELECT name,\n",
    "                         summary,\n",
    "                         ROUND(AVG(1.0 * user_review), 1) user_review_avg,\n",
    "                         AVG(1.0 * meta_score) meta_score_avg\n",
    "                     FROM vg\n",
    "                     WHERE user_review != 'tbd'\n",
    "                     GROUP BY 1\n",
    "                     ORDER BY 3 DESC, 4 DESC, 1\n",
    "                     LIMIT 10\"\"\",\n",
    "    engine,\n",
    ")\n"
   ]
  },
  {
   "attachments": {},
   "cell_type": "markdown",
   "id": "72d4d2f0",
   "metadata": {},
   "source": [
    "#### What are the 10 least popular games?\n"
   ]
  },
  {
   "attachments": {},
   "cell_type": "markdown",
   "id": "753d715d",
   "metadata": {},
   "source": [
    "##### By Metascore\n"
   ]
  },
  {
   "cell_type": "code",
   "execution_count": null,
   "id": "1792fcb6",
   "metadata": {
    "scrolled": false
   },
   "outputs": [],
   "source": [
    "pd.read_sql_query(\n",
    "    \"\"\"SELECT name,\n",
    "                         summary,\n",
    "                         AVG(1.0 * meta_score) meta_score_avg,\n",
    "                         ROUND(AVG(1.0 * user_review), 2) user_review_avg\n",
    "                     FROM vg\n",
    "                     GROUP BY 1\n",
    "                     ORDER BY 3, 4, 1\n",
    "                     LIMIT 10\"\"\",\n",
    "    engine,\n",
    ")\n"
   ]
  },
  {
   "attachments": {},
   "cell_type": "markdown",
   "id": "d13860c7",
   "metadata": {},
   "source": [
    "##### By user review\n"
   ]
  },
  {
   "cell_type": "code",
   "execution_count": null,
   "id": "5da611c0",
   "metadata": {
    "scrolled": true
   },
   "outputs": [],
   "source": [
    "pd.read_sql_query(\n",
    "    \"\"\"SELECT name,\n",
    "                         summary,\n",
    "                         ROUND(AVG(user_review), 2) user_review_avg\n",
    "                     FROM vg\n",
    "                     WHERE user_review != 'tbd'\n",
    "                     GROUP BY 1\n",
    "                     ORDER BY 3, 1\n",
    "                     LIMIT 10\"\"\",\n",
    "    engine,\n",
    ")\n"
   ]
  },
  {
   "attachments": {},
   "cell_type": "markdown",
   "id": "f33b9bcd",
   "metadata": {},
   "source": [
    "#### What is the top game for each platform?\n"
   ]
  },
  {
   "attachments": {},
   "cell_type": "markdown",
   "id": "2e1d8819",
   "metadata": {},
   "source": [
    "##### By Metascore\n"
   ]
  },
  {
   "cell_type": "code",
   "execution_count": null,
   "id": "65d2f64b",
   "metadata": {
    "scrolled": true
   },
   "outputs": [],
   "source": [
    "pd.read_sql_query(\n",
    "    \"\"\"SELECT platform, \n",
    "                         name,\n",
    "                         MAX(meta_score) meta_score_max, \n",
    "                         user_review\n",
    "                     FROM vg\n",
    "                     GROUP BY 1\"\"\",\n",
    "    engine,\n",
    ")\n"
   ]
  },
  {
   "attachments": {},
   "cell_type": "markdown",
   "id": "1cad589a",
   "metadata": {},
   "source": [
    "##### By user review\n"
   ]
  },
  {
   "cell_type": "code",
   "execution_count": null,
   "id": "6c184859",
   "metadata": {
    "scrolled": true
   },
   "outputs": [],
   "source": [
    "pd.read_sql_query(\n",
    "    \"\"\"SELECT platform, \n",
    "                         name, \n",
    "                         MAX(1.0 * user_review) user_review_max,\n",
    "                         meta_score\n",
    "                     FROM vg\n",
    "                     WHERE user_review != 'tbd'\n",
    "                     GROUP BY 1\"\"\",\n",
    "    engine,\n",
    ")\n"
   ]
  },
  {
   "attachments": {},
   "cell_type": "markdown",
   "id": "96ca3d3a",
   "metadata": {},
   "source": [
    "### Over the years\n"
   ]
  },
  {
   "attachments": {},
   "cell_type": "markdown",
   "id": "d1c90ef8",
   "metadata": {},
   "source": [
    "#### Which years had the most popular games released?\n"
   ]
  },
  {
   "attachments": {},
   "cell_type": "markdown",
   "id": "45a614b6",
   "metadata": {},
   "source": [
    "By both Metascore and user reviews, 1995 had the most popular games released. However, there was only one game included from 1995, so this has a high margin of error.\n",
    "\n",
    "Although the ordering is slightly different, the top 5 are all in the 1990s (**NB**: the data does not include games from 1990-1994 inclusive).\n",
    "\n",
    "However, Metascores were far higher for games released in 2019-2021 than user reviews.\n"
   ]
  },
  {
   "attachments": {},
   "cell_type": "markdown",
   "id": "43b3c7b2",
   "metadata": {},
   "source": [
    "##### By Metascore\n"
   ]
  },
  {
   "cell_type": "code",
   "execution_count": null,
   "id": "def63ee8",
   "metadata": {
    "scrolled": true
   },
   "outputs": [],
   "source": [
    "pd.read_sql_query(\n",
    "    \"\"\"SELECT STRFTIME('%Y', release_date_formatted) release_year,\n",
    "                         ROUND(AVG(1.0 * meta_score), 2) meta_score_avg,\n",
    "                         COUNT(meta_score) meta_score_count\n",
    "                     FROM vg\n",
    "                     GROUP BY 1\n",
    "                     ORDER BY 2 DESC\"\"\",\n",
    "    engine,\n",
    ")\n"
   ]
  },
  {
   "attachments": {},
   "cell_type": "markdown",
   "id": "e8ff5a47",
   "metadata": {},
   "source": [
    "##### By user reviews\n"
   ]
  },
  {
   "cell_type": "code",
   "execution_count": null,
   "id": "c44f1fd6",
   "metadata": {
    "scrolled": true
   },
   "outputs": [],
   "source": [
    "pd.read_sql_query(\n",
    "    \"\"\"SELECT STRFTIME('%Y', release_date_formatted) release_year,\n",
    "                         ROUND(AVG(1.0 * user_review), 2) user_review_avg,\n",
    "                         COUNT(user_review) user_review_count\n",
    "                     FROM vg\n",
    "                     WHERE user_review != 'tbd'\n",
    "                     GROUP BY 1\n",
    "                     ORDER BY 2 DESC\"\"\",\n",
    "    engine,\n",
    ")\n"
   ]
  },
  {
   "attachments": {},
   "cell_type": "markdown",
   "id": "c0374fbf",
   "metadata": {},
   "source": [
    "### Platforms\n"
   ]
  },
  {
   "attachments": {},
   "cell_type": "markdown",
   "id": "d12a9310",
   "metadata": {},
   "source": [
    "#### Which platforms had the most popular games?\n"
   ]
  },
  {
   "attachments": {},
   "cell_type": "markdown",
   "id": "23b2ace0",
   "metadata": {},
   "source": [
    "As above, on average, Metascores tend to rate the latest games (on Xbox Series X, and PlayStation 5) far higher than users.\n",
    "\n",
    "Nintendo 64 was agreed by both Metacritic and users to have the most popular games. The Dreamcast and PlayStation 1 also reached top 5 in both metrics.\n"
   ]
  },
  {
   "attachments": {},
   "cell_type": "markdown",
   "id": "4a3c6f67",
   "metadata": {},
   "source": [
    "##### By Metascore\n"
   ]
  },
  {
   "cell_type": "code",
   "execution_count": null,
   "id": "33ee2221",
   "metadata": {},
   "outputs": [],
   "source": [
    "pd.read_sql_query(\n",
    "    \"\"\"SELECT platform,\n",
    "                         ROUND(AVG(1.0 * meta_score), 2) meta_score_avg,\n",
    "                         COUNT(meta_score) meta_score_count\n",
    "                     FROM vg\n",
    "                     GROUP BY 1\n",
    "                     ORDER BY 2 DESC\"\"\",\n",
    "    engine,\n",
    ")\n"
   ]
  },
  {
   "attachments": {},
   "cell_type": "markdown",
   "id": "953f051d",
   "metadata": {},
   "source": [
    "##### By user review\n"
   ]
  },
  {
   "cell_type": "code",
   "execution_count": null,
   "id": "d64a617b",
   "metadata": {
    "scrolled": true
   },
   "outputs": [],
   "source": [
    "pd.read_sql_query(\n",
    "    \"\"\"SELECT platform,\n",
    "                         ROUND(AVG(1.0 * user_review), 2) user_review_avg,\n",
    "                         COUNT(user_review) user_review_count\n",
    "                     FROM vg\n",
    "                     WHERE user_review != 'tbd'\n",
    "                     GROUP BY 1\n",
    "                     ORDER BY 2 DESC\"\"\",\n",
    "    engine,\n",
    ")\n"
   ]
  },
  {
   "attachments": {},
   "cell_type": "markdown",
   "id": "1989e1a2",
   "metadata": {},
   "source": [
    "#### Do _home_ video game consoles have more popular games than _handheld_? Do _PCs_ have more popular games than _home_ video game consoles?\n"
   ]
  },
  {
   "attachments": {},
   "cell_type": "markdown",
   "id": "f564e829",
   "metadata": {},
   "source": [
    "By Metascore, handheld consoles have the lowest rating games out of all 4 categoriesm, PC games edged out on home consoles.\n",
    "\n",
    "However, contrastingly, user-reviewed scores of games are the highest rated on handheld consoles, with PCs being slightly lower than home consoles.\n"
   ]
  },
  {
   "attachments": {},
   "cell_type": "markdown",
   "id": "039146a3",
   "metadata": {},
   "source": [
    "##### By Metascore\n"
   ]
  },
  {
   "cell_type": "code",
   "execution_count": null,
   "id": "3172fb98",
   "metadata": {
    "scrolled": true
   },
   "outputs": [],
   "source": [
    "pd.read_sql_query(\n",
    "    \"\"\"SELECT \n",
    "                         CASE\n",
    "                             WHEN platform IN ('3DS', 'DS', 'Game Boy Advance', 'PSP', 'PlayStation Vita')\n",
    "                                 THEN 'Handheld'\n",
    "                             WHEN platform = 'Switch'\n",
    "                                 THEN 'Hybrid'\n",
    "                             WHEN platform = 'PC' \n",
    "                                 THEN 'PC'\n",
    "                             ELSE 'Home'\n",
    "                             END platform_type,\n",
    "                         ROUND(AVG(1.0 * meta_score), 2) meta_score_avg,\n",
    "                         COUNT(meta_score) meta_score_count\n",
    "                     FROM vg\n",
    "                     GROUP BY 1\n",
    "                     ORDER BY 2 DESC\"\"\",\n",
    "    engine,\n",
    ")\n"
   ]
  },
  {
   "attachments": {},
   "cell_type": "markdown",
   "id": "23f7c54e",
   "metadata": {},
   "source": [
    "##### By user review\n"
   ]
  },
  {
   "cell_type": "code",
   "execution_count": null,
   "id": "75b10bcb",
   "metadata": {},
   "outputs": [],
   "source": [
    "pd.read_sql_query(\n",
    "    \"\"\"SELECT \n",
    "                         CASE\n",
    "                             WHEN platform IN ('3DS', 'DS', 'Game Boy Advance', 'PSP', 'PlayStation Vita') THEN 'Handheld'\n",
    "                             WHEN platform = 'Switch' THEN 'Hybrid'\n",
    "                             WHEN platform = 'PC' THEN 'PC'\n",
    "                             ELSE 'Home'\n",
    "                             END platform_type,\n",
    "                         ROUND(AVG(1.0 * user_review), 2) user_review_avg,\n",
    "                         COUNT(user_review) user_review_count\n",
    "                     FROM vg\n",
    "                     WHERE user_review != 'tbd'\n",
    "                     GROUP BY 1\n",
    "                     ORDER BY 2 DESC\"\"\",\n",
    "    engine,\n",
    ")\n"
   ]
  }
 ],
 "metadata": {
  "kernelspec": {
   "display_name": "Python 3",
   "language": "python",
   "name": "python3"
  },
  "language_info": {
   "codemirror_mode": {
    "name": "ipython",
    "version": 3
   },
   "file_extension": ".py",
   "mimetype": "text/x-python",
   "name": "python",
   "nbconvert_exporter": "python",
   "pygments_lexer": "ipython3",
   "version": "3.11.0"
  },
  "vscode": {
   "interpreter": {
    "hash": "4bbabb2e14381c2a3fd400d4a398a4d99a8115d5ebe447e08567e31523f39dbc"
   }
  }
 },
 "nbformat": 4,
 "nbformat_minor": 5
}
