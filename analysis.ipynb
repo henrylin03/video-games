{
 "cells": [
  {
   "attachments": {},
   "cell_type": "markdown",
   "id": "43cb5259",
   "metadata": {},
   "source": [
    "# Video Games Review: Analysis\n",
    "\n",
    "In this project, I explore [Metacritic's video games reviews](https://www.metacritic.com/browse/games/score/metascore/all/all/filtered?page=0), released between 1995-2021.\n",
    "\n",
    "Please see the [README](https://github.com/henrylin03/video-games) for more information.\n"
   ]
  },
  {
   "attachments": {},
   "cell_type": "markdown",
   "id": "d1aafa35",
   "metadata": {},
   "source": [
    "## Setup\n",
    "\n",
    "In this section, I import all necessary libraries, setup the SQLite database, and then import the input `.csv` files in a format that allows manipulation by both `sqlite` and `pandas`:\n"
   ]
  },
  {
   "cell_type": "code",
   "execution_count": null,
   "id": "48fc7e96",
   "metadata": {},
   "outputs": [],
   "source": [
    "# import necessary libraries\n",
    "import os\n",
    "import pandas as pd\n",
    "from sqlalchemy import create_engine\n",
    "\n",
    "# creating SQLite database\n",
    "engine = create_engine(\"sqlite://\", echo=False)\n",
    "\n",
    "# import CSV as DataFrames\n",
    "INPUT_PATH = \"./input\"\n",
    "meta_df = pd.read_csv(os.path.join(INPUT_PATH, \"meta.csv\"))\n",
    "user_df = pd.read_csv(os.path.join(INPUT_PATH, \"user.csv\"))\n"
   ]
  },
  {
   "cell_type": "code",
   "execution_count": null,
   "id": "98c8f1bc",
   "metadata": {},
   "outputs": [],
   "source": [
    "meta_df.to_sql(\"meta\", engine, if_exists=\"replace\", index=False)\n",
    "pd.read_sql_query(\"SELECT * FROM meta LIMIT 3\", engine)\n"
   ]
  },
  {
   "cell_type": "code",
   "execution_count": null,
   "id": "fb49d157",
   "metadata": {},
   "outputs": [],
   "source": [
    "user_df.to_sql(\"user\", engine, if_exists=\"replace\", index=False)\n",
    "pd.read_sql_query(\"SELECT * FROM user LIMIT 3\", engine)\n"
   ]
  },
  {
   "attachments": {},
   "cell_type": "markdown",
   "id": "9e1650db",
   "metadata": {},
   "source": [
    "## Cleaning\n",
    "\n",
    "Before analysis, the following steps should be taken:\n",
    "\n",
    "1. Merge the two tables. If a game does not have a `meta_score` and/or `user_score`, add `NULL` value.\n",
    "2. Ensuring correct data types -- namely: `release_date` should be in datetime format, and ranking is an integer and not float.\n",
    "3. Clean the `platform` column by removing the `\"Platform: \"` prefix\n",
    "\n",
    "_Missing values?\n",
    "Duplicate values?_\n"
   ]
  },
  {
   "attachments": {},
   "cell_type": "markdown",
   "id": "31abcbf1",
   "metadata": {},
   "source": [
    "### Merging Tables\n",
    "\n",
    "As there are some games that have a Metascore but no User Score due to insufficient reviews (and vice versa), we need to join the two tables together.\n",
    "\n",
    "Here, we use `pandas.merge()` method as SQLite does not have `FULL OUTER JOIN`s _([SQLite Tutorial](https://www.sqlitetutorial.net/sqlite-full-outer-join/))_.\n"
   ]
  },
  {
   "cell_type": "code",
   "execution_count": null,
   "id": "682bb207",
   "metadata": {},
   "outputs": [],
   "source": [
    "merged_df = meta_df.merge(user_df, how=\"outer\", on=[\"name\", \"platform\", \"release_date\"])\n",
    "\n",
    "merged_df.head(3)\n"
   ]
  },
  {
   "cell_type": "code",
   "execution_count": null,
   "id": "8c6cf0b8",
   "metadata": {},
   "outputs": [],
   "source": [
    "if not merged_df[merged_df.summary_y.isna() & ~merged_df.summary_x.isna()].empty:\n",
    "    print('There are rows with a \"summary\" in column \"summary_x\" and not \"summary_y\"')\n",
    "if not merged_df[merged_df.summary_x.isna() & ~merged_df.summary_y.isna()].empty:\n",
    "    print('There are rows with a \"summary\" in column \"summary_y\" and not \"summary_x\"')\n",
    "\n",
    "# thus, we can safely drop the summary_y column\n",
    "merged_df = merged_df.drop(columns=[\"summary_y\"]).rename(\n",
    "    columns={\"summary_x\": \"summary\"}\n",
    ")\n",
    "merged_df.head(3)\n"
   ]
  },
  {
   "attachments": {},
   "cell_type": "markdown",
   "id": "bbd1a7f7",
   "metadata": {},
   "source": [
    "### Ensuring correct data types\n"
   ]
  },
  {
   "attachments": {},
   "cell_type": "markdown",
   "id": "f7ecde06",
   "metadata": {},
   "source": [
    "#### Datetime\n",
    "\n",
    "As SQLite does not support month names ([StackOverflow](https://stackoverflow.com/questions/1181123/date-formatting-from-sqlite-query)) as is found in the `release_date` column, we use [`pandas.to_datetime()`](https://pandas.pydata.org/docs/reference/api/pandas.to_datetime.html) method instead:\n"
   ]
  },
  {
   "cell_type": "code",
   "execution_count": null,
   "id": "7901df5c",
   "metadata": {},
   "outputs": [],
   "source": [
    "merged_df[\"release_date\"] = pd.to_datetime(merged_df.release_date, format=\"%B %d, %Y\")\n",
    "merged_df.head(3)\n"
   ]
  },
  {
   "attachments": {},
   "cell_type": "markdown",
   "id": "17cafb97",
   "metadata": {},
   "source": [
    "#### Ranks\n"
   ]
  },
  {
   "cell_type": "code",
   "execution_count": null,
   "id": "e364f7aa",
   "metadata": {},
   "outputs": [],
   "source": [
    "for col in [c for c in merged_df.columns if c.endswith(\"_rank\")]:\n",
    "    merged_df[col] = merged_df[col].astype(\"Int64\")  # Int64 type handles null values\n",
    "\n",
    "merged_df.dtypes  # expected output: `meta_rank` and `user_rank` columns are `Int64 type`\n"
   ]
  },
  {
   "attachments": {},
   "cell_type": "markdown",
   "id": "f7c88353",
   "metadata": {},
   "source": [
    "### Removing string prefix in `platform` column\n"
   ]
  },
  {
   "cell_type": "code",
   "execution_count": null,
   "id": "771f702d",
   "metadata": {},
   "outputs": [],
   "source": [
    "\n"
   ]
  }
 ],
 "metadata": {
  "kernelspec": {
   "display_name": "Python 3",
   "language": "python",
   "name": "python3"
  },
  "language_info": {
   "codemirror_mode": {
    "name": "ipython",
    "version": 3
   },
   "file_extension": ".py",
   "mimetype": "text/x-python",
   "name": "python",
   "nbconvert_exporter": "python",
   "pygments_lexer": "ipython3",
   "version": "3.11.0 (main, Oct 24 2022, 18:26:48) [MSC v.1933 64 bit (AMD64)]"
  },
  "vscode": {
   "interpreter": {
    "hash": "4bbabb2e14381c2a3fd400d4a398a4d99a8115d5ebe447e08567e31523f39dbc"
   }
  }
 },
 "nbformat": 4,
 "nbformat_minor": 5
}
