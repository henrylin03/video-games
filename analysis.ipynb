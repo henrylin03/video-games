{
 "cells": [
  {
   "attachments": {},
   "cell_type": "markdown",
   "id": "43cb5259",
   "metadata": {},
   "source": [
    "# Video Games Review: Analysis\n",
    "\n",
    "In this project, I explore [Metacritic's video games reviews](https://www.metacritic.com/browse/games/score/metascore/all/all/filtered?page=0).\n"
   ]
  },
  {
   "attachments": {},
   "cell_type": "markdown",
   "id": "d1aafa35",
   "metadata": {},
   "source": [
    "## Setup\n",
    "\n",
    "In this section, I import all necessary libraries, setup the SQLite database, and then import the input `.csv` files in a format that allows manipulation by both `sqlite` and `pandas`:\n"
   ]
  },
  {
   "cell_type": "code",
   "execution_count": 2,
   "id": "48fc7e96",
   "metadata": {},
   "outputs": [],
   "source": [
    "import pandas as pd\n",
    "from sqlalchemy import create_engine\n",
    "\n",
    "# creating SQLite database\n",
    "engine = create_engine(\"sqlite://\", echo=False)\n"
   ]
  },
  {
   "cell_type": "code",
   "execution_count": 6,
   "id": "a773efe4",
   "metadata": {},
   "outputs": [
    {
     "data": {
      "text/html": [
       "<div>\n",
       "<style scoped>\n",
       "    .dataframe tbody tr th:only-of-type {\n",
       "        vertical-align: middle;\n",
       "    }\n",
       "\n",
       "    .dataframe tbody tr th {\n",
       "        vertical-align: top;\n",
       "    }\n",
       "\n",
       "    .dataframe thead th {\n",
       "        text-align: right;\n",
       "    }\n",
       "</style>\n",
       "<table border=\"1\" class=\"dataframe\">\n",
       "  <thead>\n",
       "    <tr style=\"text-align: right;\">\n",
       "      <th></th>\n",
       "      <th>platform</th>\n",
       "      <th>name</th>\n",
       "    </tr>\n",
       "  </thead>\n",
       "  <tbody>\n",
       "    <tr>\n",
       "      <th>0</th>\n",
       "      <td>3DS</td>\n",
       "      <td>13</td>\n",
       "    </tr>\n",
       "    <tr>\n",
       "      <th>1</th>\n",
       "      <td>DS</td>\n",
       "      <td>24</td>\n",
       "    </tr>\n",
       "    <tr>\n",
       "      <th>2</th>\n",
       "      <td>Dreamcast</td>\n",
       "      <td>2</td>\n",
       "    </tr>\n",
       "    <tr>\n",
       "      <th>3</th>\n",
       "      <td>Game Boy Advance</td>\n",
       "      <td>8</td>\n",
       "    </tr>\n",
       "    <tr>\n",
       "      <th>4</th>\n",
       "      <td>GameCube</td>\n",
       "      <td>6</td>\n",
       "    </tr>\n",
       "    <tr>\n",
       "      <th>5</th>\n",
       "      <td>Nintendo 64</td>\n",
       "      <td>1</td>\n",
       "    </tr>\n",
       "    <tr>\n",
       "      <th>6</th>\n",
       "      <td>PC</td>\n",
       "      <td>809</td>\n",
       "    </tr>\n",
       "    <tr>\n",
       "      <th>7</th>\n",
       "      <td>PSP</td>\n",
       "      <td>11</td>\n",
       "    </tr>\n",
       "    <tr>\n",
       "      <th>8</th>\n",
       "      <td>PlayStation</td>\n",
       "      <td>3</td>\n",
       "    </tr>\n",
       "    <tr>\n",
       "      <th>9</th>\n",
       "      <td>PlayStation 2</td>\n",
       "      <td>19</td>\n",
       "    </tr>\n",
       "    <tr>\n",
       "      <th>10</th>\n",
       "      <td>PlayStation 3</td>\n",
       "      <td>32</td>\n",
       "    </tr>\n",
       "    <tr>\n",
       "      <th>11</th>\n",
       "      <td>PlayStation 4</td>\n",
       "      <td>92</td>\n",
       "    </tr>\n",
       "    <tr>\n",
       "      <th>12</th>\n",
       "      <td>PlayStation 5</td>\n",
       "      <td>20</td>\n",
       "    </tr>\n",
       "    <tr>\n",
       "      <th>13</th>\n",
       "      <td>PlayStation Vita</td>\n",
       "      <td>18</td>\n",
       "    </tr>\n",
       "    <tr>\n",
       "      <th>14</th>\n",
       "      <td>Stadia</td>\n",
       "      <td>4</td>\n",
       "    </tr>\n",
       "    <tr>\n",
       "      <th>15</th>\n",
       "      <td>Switch</td>\n",
       "      <td>98</td>\n",
       "    </tr>\n",
       "    <tr>\n",
       "      <th>16</th>\n",
       "      <td>Wii</td>\n",
       "      <td>21</td>\n",
       "    </tr>\n",
       "    <tr>\n",
       "      <th>17</th>\n",
       "      <td>Wii U</td>\n",
       "      <td>8</td>\n",
       "    </tr>\n",
       "    <tr>\n",
       "      <th>18</th>\n",
       "      <td>Xbox</td>\n",
       "      <td>9</td>\n",
       "    </tr>\n",
       "    <tr>\n",
       "      <th>19</th>\n",
       "      <td>Xbox 360</td>\n",
       "      <td>30</td>\n",
       "    </tr>\n",
       "    <tr>\n",
       "      <th>20</th>\n",
       "      <td>Xbox One</td>\n",
       "      <td>71</td>\n",
       "    </tr>\n",
       "    <tr>\n",
       "      <th>21</th>\n",
       "      <td>Xbox Series X</td>\n",
       "      <td>14</td>\n",
       "    </tr>\n",
       "    <tr>\n",
       "      <th>22</th>\n",
       "      <td>iOS</td>\n",
       "      <td>123</td>\n",
       "    </tr>\n",
       "  </tbody>\n",
       "</table>\n",
       "</div>"
      ],
      "text/plain": [
       "            platform  name\n",
       "0                3DS    13\n",
       "1                 DS    24\n",
       "2          Dreamcast     2\n",
       "3   Game Boy Advance     8\n",
       "4           GameCube     6\n",
       "5        Nintendo 64     1\n",
       "6                 PC   809\n",
       "7                PSP    11\n",
       "8        PlayStation     3\n",
       "9      PlayStation 2    19\n",
       "10     PlayStation 3    32\n",
       "11     PlayStation 4    92\n",
       "12     PlayStation 5    20\n",
       "13  PlayStation Vita    18\n",
       "14            Stadia     4\n",
       "15            Switch    98\n",
       "16               Wii    21\n",
       "17             Wii U     8\n",
       "18              Xbox     9\n",
       "19          Xbox 360    30\n",
       "20          Xbox One    71\n",
       "21     Xbox Series X    14\n",
       "22               iOS   123"
      ]
     },
     "execution_count": 6,
     "metadata": {},
     "output_type": "execute_result"
    }
   ],
   "source": [
    "df = pd.read_csv(\"./input/input.csv\")\n",
    "df.groupby(\"platform\").name.count().reset_index()"
   ]
  },
  {
   "attachments": {},
   "cell_type": "markdown",
   "id": "9e1650db",
   "metadata": {},
   "source": [
    "## Cleaning"
   ]
  },
  {
   "attachments": {},
   "cell_type": "markdown",
   "id": "f7c88353",
   "metadata": {},
   "source": [
    "### Removing string prefix in `platform` column\n",
    "\n",
    "As all values in the `platform` column has a `\"Platform: \"` prefix, I use SQL's `SUBSTR()` to begin the string at a later index.\n",
    "\n",
    "If the the unwanted substring is not consistently a prefix, I would use `REPLACE()` instead.\n"
   ]
  },
  {
   "cell_type": "code",
   "execution_count": null,
   "id": "dea0e8b8",
   "metadata": {},
   "outputs": [],
   "source": [
    "# displaying distinct values of `platform` column to confirm all values start with prefix\n",
    "merged_df.to_sql(\"games\", engine, if_exists=\"replace\", index=False)\n",
    "pd.read_sql_query(\"SELECT DISTINCT platform FROM games\", engine)\n"
   ]
  },
  {
   "cell_type": "code",
   "execution_count": null,
   "id": "771f702d",
   "metadata": {},
   "outputs": [],
   "source": [
    "merged_df = pd.read_sql_query(\n",
    "    \"\"\"\n",
    "    SELECT name,\n",
    "        SUBSTR(platform, 11) platform,\n",
    "        release_date,\n",
    "        summary,\n",
    "        meta_score,\n",
    "        user_score\n",
    "    FROM \n",
    "        games\n",
    "        \"\"\",\n",
    "    engine,\n",
    ")\n",
    "merged_df.head()\n"
   ]
  },
  {
   "attachments": {},
   "cell_type": "markdown",
   "id": "d72c6bcf",
   "metadata": {},
   "source": [
    "### Missing Values\n",
    "\n",
    "Though there are missing values in the dataset, there is NFA to impute as:\n",
    "\n",
    "1. The `meta_score` and `user_score` columns are missing if there are <4 and <7 reviews for that game respectively, and is not possible to impute.\n",
    "2. The `summary` of the game is authored by Metacritic, which is also difficult to impute.\n"
   ]
  },
  {
   "cell_type": "code",
   "execution_count": null,
   "id": "dbb6fea8",
   "metadata": {},
   "outputs": [],
   "source": [
    "pd.read_sql_query(\n",
    "    \"\"\"\n",
    "    SELECT SUM(CASE WHEN meta_score IS NULL THEN 1 ELSE 0 END) meta_score_miss,\n",
    "        SUM(CASE WHEN user_score IS NULL THEN 1 ELSE 0 END) user_score_miss,\n",
    "        SUM(CASE WHEN name IS NULL THEN 1 ELSE 0 END) name_miss,\n",
    "        SUM(CASE WHEN platform IS NULL THEN 1 ELSE 0 END) platform_miss,\n",
    "        SUM(CASE WHEN release_date IS NULL THEN 1 ELSE 0 END) release_date_miss,\n",
    "        SUM(CASE WHEN summary IS NULL THEN 1 ELSE 0 END) summary_miss\n",
    "    FROM games\n",
    "    \"\"\",\n",
    "    engine,\n",
    ")\n"
   ]
  },
  {
   "attachments": {},
   "cell_type": "markdown",
   "id": "94c9ae69",
   "metadata": {},
   "source": [
    "### Duplicates\n"
   ]
  },
  {
   "cell_type": "code",
   "execution_count": null,
   "id": "1d33b86e",
   "metadata": {},
   "outputs": [],
   "source": [
    "# deduplicate first as no entries should be identical for all columns\n",
    "merged_df = merged_df.drop_duplicates()\n",
    "merged_df.to_sql(\"games\", engine, if_exists=\"replace\", index=False)\n",
    "\n",
    "# check duplicates for \"name\", \"summary\" columns, as the other attributes can be expected to have duplicates\n",
    "# exclude null values using `WHERE` statement as these will duplicate\n",
    "for col in [\"name\", \"summary\"]:\n",
    "    dup_df = pd.read_sql_query(\n",
    "        f\"\"\"\n",
    "        SELECT {col}, COUNT(*) counts\n",
    "        FROM games\n",
    "        WHERE {col} NOT NULL\n",
    "        GROUP BY 1\n",
    "        HAVING counts > 1\n",
    "        ORDER BY 2 DESC\n",
    "        \"\"\",\n",
    "        engine,\n",
    "    )\n",
    "    if not dup_df.empty:\n",
    "        display(col, dup_df)\n"
   ]
  },
  {
   "attachments": {},
   "cell_type": "markdown",
   "id": "8ae423d3",
   "metadata": {},
   "source": [
    "The `name` column has duplicates largely due to each row representing a game for a particular _platform_. Eg: if a game was released on PC, PS4 and PS5 -- each of these will have its own entry.\n",
    "\n",
    "However, if there are games that also duplicate when the `name` and `platform` columns are grouped, the entry that has incorrect attributes should be removed."
   ]
  },
  {
   "cell_type": "code",
   "execution_count": null,
   "id": "9c440512",
   "metadata": {},
   "outputs": [],
   "source": [
    "pd.read_sql_query(\n",
    "    \"\"\"\n",
    "    SELECT name,\n",
    "        platform,\n",
    "        COUNT(*) counts\n",
    "    FROM games\n",
    "    GROUP BY 1, 2\n",
    "    HAVING counts > 1\n",
    "    ORDER BY 3 DESC\n",
    "    \"\"\",\n",
    "    engine,\n",
    ")\n"
   ]
  },
  {
   "cell_type": "code",
   "execution_count": null,
   "id": "ed9fbf92",
   "metadata": {},
   "outputs": [],
   "source": [
    "# find entries for above games (and their platform) which duplicates\n",
    "# create \"name_platform\" helper column to identify unique name+platform pairs\n",
    "dups_df = pd.read_sql_query(\n",
    "    \"\"\"\n",
    "    WITH dups_name_platform AS (\n",
    "        SELECT name, \n",
    "            platform,\n",
    "            COUNT(*) counts\n",
    "        FROM games\n",
    "        GROUP BY 1, 2\n",
    "        HAVING counts > 1\n",
    "    )\n",
    "    \n",
    "    SELECT g.*,\n",
    "        REPLACE(LOWER(name), ' ', '-') || '//' || REPLACE(LOWER(platform), ' ', '-') name_platform\n",
    "    FROM games g\n",
    "    JOIN dups_name_platform\n",
    "    USING (name, platform)\n",
    "    \"\"\",\n",
    "    engine,\n",
    ")\n",
    "\n",
    "dups_df\n"
   ]
  },
  {
   "cell_type": "code",
   "execution_count": null,
   "id": "3cd178f3",
   "metadata": {},
   "outputs": [],
   "source": [
    "# confirm on site the actual score of the duplicated entry\n",
    "from scraper import setup_chrome_driver\n",
    "from selenium.webdriver.common.by import By\n",
    "\n",
    "if not dups_df.empty:\n",
    "    DRIVER = setup_chrome_driver()\n",
    "    for n in set(dups_df.name_platform):\n",
    "        name_platform_split = n.split(\"//\")\n",
    "        game_name_cleaned = name_platform_split[0]\n",
    "        platform_name_cleaned = name_platform_split[1]\n",
    "\n",
    "        game_url = f\"https://www.metacritic.com/game/{platform_name_cleaned}/{game_name_cleaned}\"\n",
    "\n",
    "        DRIVER.get(game_url)\n",
    "        metascore_indiv = float(\n",
    "            DRIVER.find_element(\n",
    "                By.XPATH,\n",
    "                '//*[@id=\"main\"]/div/div[1]/div[1]/div[3]/div/div[2]/div[1]/div[1]/div/div/a/div',\n",
    "            ).text\n",
    "        )\n",
    "        userscore_indiv = float(\n",
    "            DRIVER.find_element(\n",
    "                By.XPATH,\n",
    "                '//*[@id=\"main\"]/div/div[1]/div[1]/div[3]/div/div[2]/div[1]/div[2]/div[1]/div/a/div',\n",
    "            ).text\n",
    "        )\n",
    "\n",
    "        # check that a row with those values exist\n",
    "        check_entry_df = dups_df[\n",
    "            (dups_df.name_platform == n)\n",
    "            & (dups_df.meta_score == float(metascore_indiv))\n",
    "            & (dups_df.user_score == float(userscore_indiv))\n",
    "        ]\n",
    "        if check_entry_df.empty:\n",
    "            raise Exception(\n",
    "                f\"\"\"The game \"{check_entry_df.name.values[0]}\" on \"{check_entry_df.platform.values[0]}\" has incorrect Metascore and/or User Score. Please re-run scraper.py or manually update the CSV(s).\"\"\"\n",
    "            )\n",
    "\n",
    "        # replace scores with correct ones and dedup\n",
    "        game_name = check_entry_df.name.values[0]\n",
    "        platform_name = check_entry_df.platform.values[0]\n",
    "\n",
    "        merged_df.loc[\n",
    "            (merged_df.name == game_name) & (merged_df.platform == platform_name),\n",
    "            [\"meta_score\"],\n",
    "        ] = metascore_indiv\n",
    "        merged_df.loc[\n",
    "            (merged_df.name == game_name) & (merged_df.platform == platform_name),\n",
    "            [\"user_score\"],\n",
    "        ] = userscore_indiv\n",
    "\n",
    "        merged_df.drop_duplicates(inplace=True)\n",
    "\n",
    "        display(merged_df[merged_df.name == check_entry_df.name.values[0]])\n",
    "    DRIVER.close()\n"
   ]
  },
  {
   "attachments": {},
   "cell_type": "markdown",
   "id": "89d86936",
   "metadata": {},
   "source": [
    "Similarly, `summary` column duplicates due to each row referring to a game that, despite being released on different platforms, have the same game summary."
   ]
  },
  {
   "cell_type": "code",
   "execution_count": null,
   "id": "c9aaa29e",
   "metadata": {},
   "outputs": [],
   "source": [
    "merged_df.to_sql(\"games\", engine, if_exists=\"replace\", index=False)\n",
    "\n",
    "pd.read_sql_query(\n",
    "    \"\"\"\n",
    "    SELECT name,\n",
    "        platform,\n",
    "        summary,\n",
    "        COUNT(*) counts\n",
    "    FROM games\n",
    "    WHERE summary NOT NULL\n",
    "    GROUP BY 1, 2, 3\n",
    "    ORDER BY 4 DESC\n",
    "    \"\"\",\n",
    "    engine,\n",
    ")\n"
   ]
  },
  {
   "attachments": {},
   "cell_type": "markdown",
   "id": "8e1f64e5",
   "metadata": {},
   "source": [
    "## Analysis"
   ]
  },
  {
   "attachments": {},
   "cell_type": "markdown",
   "id": "b854aa2d",
   "metadata": {},
   "source": [
    "### Metascore vs User Scores\n",
    "There are up to two scores (assuming sufficient rating volumes) for each game: \n",
    "* A game's **Metascore** is the [weighted average of critics' and publications' reviews](https://www.metacritic.com/about-metascores).\n",
    "* A game's **user score** is the mean of users' scores."
   ]
  },
  {
   "attachments": {},
   "cell_type": "markdown",
   "id": "5cf12157",
   "metadata": {},
   "source": [
    "#### Metascores and user scores have a ***low***, ***positive*** correlation\n",
    "The Pearson Correlation Coefficient is approx `+0.270`.\n",
    "\n",
    "Unlike other SQL implementations (like PostgreSQL's `CORR()`), SQLite lacks built-in function to calculate the correlation coefficient. Thus, I implement the calculation manually using the formula:\n",
    "\n",
    "![Pearson Correlation Coefficient equation](data:image/png;base64,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)"
   ]
  },
  {
   "cell_type": "code",
   "execution_count": null,
   "id": "389efb35",
   "metadata": {},
   "outputs": [],
   "source": [
    "pd.read_sql_query(\n",
    "    \"\"\"\n",
    "    SELECT AVG( (user_score - avg_userscore) * (meta_score - avg_metascore) ) * AVG( (user_score - avg_userscore) * (meta_score - avg_metascore) ) / (var_userscore * var_metascore) AS pearson_corr_coeff \n",
    "    FROM games,\n",
    "        (\n",
    "            SELECT avg_userscore,\n",
    "                avg_metascore,\n",
    "                AVG((user_score - avg_userscore)*(user_score - avg_userscore)) as var_userscore,\n",
    "                AVG((meta_score - avg_metascore)*(meta_score - avg_metascore)) as var_metascore\n",
    "            FROM games,\n",
    "                (\n",
    "                    SELECT AVG(user_score) AS avg_userscore,\n",
    "                        AVG(meta_score) AS avg_metascore\n",
    "                    FROM games\n",
    "                )\n",
    "        )\n",
    "    \"\"\",\n",
    "    engine,\n",
    ")\n"
   ]
  },
  {
   "attachments": {},
   "cell_type": "markdown",
   "id": "5f1807a0",
   "metadata": {},
   "source": [
    "Visually, a scatterplot of all games' user score (x-axis) against Metascore (y-axis) validates this positive correlation."
   ]
  },
  {
   "cell_type": "code",
   "execution_count": null,
   "id": "9fb298c5",
   "metadata": {},
   "outputs": [],
   "source": [
    "import matplotlib.pyplot as plt\n",
    "import seaborn as sns\n",
    "\n",
    "sns.set(style=\"ticks\")\n",
    "sns.lmplot(\n",
    "    data=merged_df,\n",
    "    x=\"user_score\",\n",
    "    y=\"meta_score\",\n",
    "    scatter_kws={\"color\": \"brown\", \"alpha\": 0.08, \"s\": 20},\n",
    "    line_kws={\"color\": \"#595959\"},\n",
    ")\n",
    "plt.show()\n"
   ]
  },
  {
   "attachments": {},
   "cell_type": "markdown",
   "id": "df485953",
   "metadata": {},
   "source": [
    "### Platforms"
   ]
  },
  {
   "attachments": {},
   "cell_type": "markdown",
   "id": "441a7833",
   "metadata": {},
   "source": [
    "#### **Nintendo 64** and **PlayStation** have the highest rated games"
   ]
  },
  {
   "cell_type": "code",
   "execution_count": null,
   "id": "3aba58ed",
   "metadata": {},
   "outputs": [],
   "source": [
    "# transforming table to allow split boxplots\n",
    "# normalise meta_score by having it out of 10 instead of 100\n",
    "\n",
    "scores_stacked_df = pd.read_sql_query(\n",
    "    \"\"\"\n",
    "    SELECT name,\n",
    "        platform,\n",
    "        meta_score / 10 score, \n",
    "        'meta' score_type,\n",
    "        release_date\n",
    "    FROM games\n",
    "    WHERE score NOT NULL\n",
    "    UNION ALL\n",
    "    SELECT name,\n",
    "        platform,\n",
    "        user_score score,\n",
    "        'user' score_type,\n",
    "        release_date\n",
    "    FROM games\n",
    "    WHERE score NOT NULL\n",
    "    ORDER BY platform\n",
    "\"\"\",\n",
    "    engine,\n",
    ")\n",
    "scores_stacked_df.head(3)\n"
   ]
  },
  {
   "attachments": {},
   "cell_type": "markdown",
   "id": "65566e2d",
   "metadata": {},
   "source": [
    "As SQLite does not have a built-in function nor efficient alternative to query the median values of each platform, we use `pandas`' `.median()` method:"
   ]
  },
  {
   "cell_type": "code",
   "execution_count": null,
   "id": "b7a966d0",
   "metadata": {},
   "outputs": [],
   "source": [
    "median_scores_df = (\n",
    "    scores_stacked_df.groupby([\"platform\", \"score_type\"])\n",
    "    .score.median()\n",
    "    .reset_index()\n",
    "    .rename(columns={\"score\": \"median_score\"})\n",
    ")\n",
    "median_scores_df\n"
   ]
  },
  {
   "attachments": {},
   "cell_type": "markdown",
   "id": "0817b42a",
   "metadata": {},
   "source": [
    "With the exception of Nintendo DS and Nintendo Wii, Metascores' distribution for each platform is similar to one another.\n",
    "\n",
    "**Nintendo DS** and **Nintendo Wii** have lower, median and interquartile ranges of _Metascores_, though _users_ have reviewed games of other platforms lower.\n",
    "\n",
    "Overall, the higher number of outliers for _user_ scores (as compared to Metascores) imply users tend to disagree with one another more than critics, which is expected. In particular, **PC** games have noticeably more low-end outliers, especially for user scores <4.\n"
   ]
  },
  {
   "cell_type": "code",
   "execution_count": null,
   "id": "7f6d16e1",
   "metadata": {},
   "outputs": [],
   "source": [
    "plt.figure(figsize=(8, 10))\n",
    "bp = sns.boxplot(\n",
    "    data=scores_stacked_df,\n",
    "    x=\"score\",\n",
    "    y=\"platform\",\n",
    "    hue=\"score_type\",\n",
    "    orient=\"h\",\n",
    "    palette=[\"orange\", \"#2998cd\"],\n",
    ")\n",
    "plt.show()\n"
   ]
  },
  {
   "attachments": {},
   "cell_type": "markdown",
   "id": "3e4b5d3f",
   "metadata": {},
   "source": [
    "#### Overall, users agree that **_handheld_** games are better\n",
    "\n",
    "- Across all platform types, Metascores vary far more between games than user scores.\n",
    "- Overall, users tend to rate **_handheld_** games the highest, followed by \"hybrid\" games (which refers to the Nintendo Switch, which can be played both as a _handheld_ platform and a home console).\n",
    "- _PC_ games have the lowest median user scores, albeit only slightly compared to the other categories\n"
   ]
  },
  {
   "cell_type": "code",
   "execution_count": null,
   "id": "f1e1ef2f",
   "metadata": {},
   "outputs": [],
   "source": [
    "platform_type_df = pd.read_sql_query(\n",
    "    \"\"\"\n",
    "    SELECT *,\n",
    "        CASE\n",
    "            WHEN platform IN ('3DS', 'DS', 'Game Boy Advance', 'PSP', 'PlayStation Vita') THEN 'handheld'\n",
    "            WHEN platform IS 'Switch' THEN 'hybrid'\n",
    "            WHEN platform IS 'PC' THEN 'pc'\n",
    "            WHEN platform IS 'iOS' THEN 'mobile'\n",
    "            ELSE 'home console'\n",
    "        END platform_type\n",
    "    FROM games\n",
    "    \"\"\",\n",
    "    engine,\n",
    ")\n",
    "platform_type_df.head(3)\n"
   ]
  },
  {
   "cell_type": "code",
   "execution_count": null,
   "id": "1b95ba13",
   "metadata": {},
   "outputs": [],
   "source": [
    "# transforming table in preparation for split boxplot\n",
    "scores_stacked_df.to_sql(\"scores_unpivoted\", engine, if_exists=\"replace\", index=False)\n",
    "scores_unpivoted_platform_cats = pd.read_sql_query(\n",
    "    \"\"\"\n",
    "    SELECT *,\n",
    "        CASE\n",
    "            WHEN platform IN ('3DS', 'DS', 'Game Boy Advance', 'PSP', 'PlayStation Vita') THEN 'handheld'\n",
    "            WHEN platform IS 'Switch' THEN 'hybrid'\n",
    "            WHEN platform IS 'PC' THEN 'pc'\n",
    "            WHEN platform IS 'iOS' THEN 'mobile'\n",
    "            ELSE 'home console'\n",
    "        END platform_type\n",
    "    FROM scores_unpivoted\n",
    "    \"\"\",\n",
    "    engine,\n",
    ")\n",
    "\n",
    "plt.figure(figsize=(10, 8))\n",
    "sns.violinplot(\n",
    "    data=scores_unpivoted_platform_cats,\n",
    "    x=\"platform_type\",\n",
    "    y=\"score\",\n",
    "    hue=\"score_type\",\n",
    "    palette=[\"orange\", \"#2998cd\"],\n",
    "    split=True,\n",
    ")\n",
    "plt.show()\n"
   ]
  },
  {
   "attachments": {},
   "cell_type": "markdown",
   "id": "9f54f13d",
   "metadata": {},
   "source": [
    "### Older Games Tend to Be More Popular"
   ]
  },
  {
   "attachments": {},
   "cell_type": "markdown",
   "id": "bbd1a7f7",
   "metadata": {},
   "source": [
    "As SQLite does not support month names ([StackOverflow](https://stackoverflow.com/questions/1181123/date-formatting-from-sqlite-query)) as is found in the `release_date` column, we use [`pandas.to_datetime()`](https://pandas.pydata.org/docs/reference/api/pandas.to_datetime.html) method instead:\n"
   ]
  },
  {
   "cell_type": "code",
   "execution_count": null,
   "id": "7c7cca0c",
   "metadata": {},
   "outputs": [],
   "source": [
    "merged_df[\"release_date\"] = pd.to_datetime(merged_df.release_date, format=\"%B %d, %Y\")\n",
    "merged_df.head(2)\n"
   ]
  },
  {
   "attachments": {},
   "cell_type": "markdown",
   "id": "bceaee6f",
   "metadata": {},
   "source": [
    "#### Games released in ***1995-1999*** inclusive tend to have higher user scores and Metascores...\n",
    "Which aligns with our findings above that N64 (released 1996) and PS1 (released 1994) had the highest rated games\n",
    "- As time goes by, newer-released games tend to attract _lower_ user scores (although there are exceptions, in the form of outliers)\n",
    "- Games released in 2006-2008 inclusive attracted poorer Metascores  "
   ]
  },
  {
   "cell_type": "code",
   "execution_count": null,
   "id": "1393c2d4",
   "metadata": {},
   "outputs": [],
   "source": [
    "sns.scatterplot(\n",
    "    data=merged_df, x=\"release_date\", y=\"meta_score\", alpha=0.05, color=\"orange\"\n",
    ")\n",
    "plt.show()\n"
   ]
  },
  {
   "cell_type": "code",
   "execution_count": null,
   "id": "bf297a8f",
   "metadata": {},
   "outputs": [],
   "source": [
    "sns.scatterplot(\n",
    "    data=merged_df, x=\"release_date\", y=\"user_score\", alpha=0.05, color=\"#2998cd\"\n",
    ")\n",
    "plt.show()\n"
   ]
  },
  {
   "cell_type": "code",
   "execution_count": null,
   "id": "42583791",
   "metadata": {},
   "outputs": [],
   "source": [
    "scores_stacked_df[\"release_date\"] = pd.to_datetime(\n",
    "    scores_stacked_df.release_date, format=\"%B %d, %Y\"\n",
    ")\n",
    "\n",
    "plt.figure(figsize=(10, 8))\n",
    "sns.boxplot(\n",
    "    data=scores_stacked_df,\n",
    "    x=scores_stacked_df.release_date.dt.year,\n",
    "    y=\"score\",\n",
    "    hue=\"score_type\",\n",
    "    palette=[\"orange\", \"#2998cd\"],\n",
    ")\n",
    "plt.xticks(rotation=90)\n",
    "plt.show()\n"
   ]
  },
  {
   "attachments": {},
   "cell_type": "markdown",
   "id": "108428ce",
   "metadata": {},
   "source": [
    "Median scores (which are less sensitive to outliers compared to mean) confirm these findings:\n",
    "1. Median user scores decline as the game is released more recently, reaching a historical low for games released in 2023\n",
    "2. Median Metascores have stayed around `7.0` following a dip for games released 2006-2008 inclusive."
   ]
  },
  {
   "cell_type": "code",
   "execution_count": null,
   "id": "b7f92d3f",
   "metadata": {},
   "outputs": [],
   "source": [
    "scores_stacked_by_year = scores_stacked_df.copy().drop(\"platform\", axis=1)\n",
    "scores_stacked_by_year[\"release_year\"] = scores_stacked_by_year.release_date.dt.year\n",
    "median_scores_by_year = (\n",
    "    scores_stacked_by_year.groupby([\"release_year\", \"score_type\"])\n",
    "    .score.median()\n",
    "    .reset_index()\n",
    "    .rename(columns={\"score\": \"median_score\"})\n",
    ")\n",
    "# median_scores_by_year.head(5)"
   ]
  },
  {
   "cell_type": "code",
   "execution_count": null,
   "id": "911fe7db",
   "metadata": {},
   "outputs": [],
   "source": [
    "plt.figure(figsize=(10, 8))\n",
    "sns.lineplot(\n",
    "    data=median_scores_by_year,\n",
    "    x=\"release_year\",\n",
    "    y=\"median_score\",\n",
    "    hue=\"score_type\",\n",
    "    palette=[\"orange\", \"#2998cd\"], linewidth=3\n",
    ")\n",
    "plt.show()\n"
   ]
  }
 ],
 "metadata": {
  "kernelspec": {
   "display_name": "env",
   "language": "python",
   "name": "python3"
  },
  "language_info": {
   "codemirror_mode": {
    "name": "ipython",
    "version": 3
   },
   "file_extension": ".py",
   "mimetype": "text/x-python",
   "name": "python",
   "nbconvert_exporter": "python",
   "pygments_lexer": "ipython3",
   "version": "3.11.0"
  },
  "vscode": {
   "interpreter": {
    "hash": "4b708d36c2802418c48b37af73e150472eb15d3e5fb0d6b36563e599bc8f8719"
   }
  }
 },
 "nbformat": 4,
 "nbformat_minor": 5
}
